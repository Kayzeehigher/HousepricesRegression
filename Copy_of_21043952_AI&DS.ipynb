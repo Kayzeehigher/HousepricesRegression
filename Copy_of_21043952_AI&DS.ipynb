{
  "nbformat": 4,
  "nbformat_minor": 0,
  "metadata": {
    "colab": {
      "provenance": [],
      "mount_file_id": "1NbH2xMMBoOV2_Q6BBtZdLs8GJD1PxunM",
      "authorship_tag": "ABX9TyMrKt1Dgyti/4ZtoVOgb4eH",
      "include_colab_link": true
    },
    "kernelspec": {
      "name": "python3",
      "display_name": "Python 3"
    },
    "language_info": {
      "name": "python"
    }
  },
  "cells": [
    {
      "cell_type": "markdown",
      "metadata": {
        "id": "view-in-github",
        "colab_type": "text"
      },
      "source": [
        "<a href=\"https://colab.research.google.com/github/Kayzeehigher/HousepricesRegression/blob/main/Copy_of_21043952_AI%26DS.ipynb\" target=\"_parent\"><img src=\"https://colab.research.google.com/assets/colab-badge.svg\" alt=\"Open In Colab\"/></a>"
      ]
    },
    {
      "cell_type": "code",
      "execution_count": null,
      "metadata": {
        "id": "fkrjDkBrBIhP"
      },
      "outputs": [],
      "source": [
        "from google.colab import drive\n",
        "drive.mount('/content/drive')"
      ]
    },
    {
      "cell_type": "code",
      "source": [
        "import pandas as pd\n",
        "from sklearn.metrics import mean_absolute_error\n",
        "import seaborn as sns"
      ],
      "metadata": {
        "id": "_ySOM6fWDvg5"
      },
      "execution_count": null,
      "outputs": []
    },
    {
      "cell_type": "code",
      "source": [
        "def make_plot(truth, prediction):\n",
        "  plt.plot(truth, color=\"red\", label=\"truth\")\n",
        "  plt.plot(prediction, color=\"blue\", label=\"predicted\")\n",
        "  plt.legend()\n",
        "  plt.grid()\n",
        "  plt.title(\"Comparing truth and predicted regression values\")\n",
        "  plt.tight_layout()\n",
        "  plt.show()"
      ],
      "metadata": {
        "id": "Maw6cdHPD0V6"
      },
      "execution_count": null,
      "outputs": []
    },
    {
      "cell_type": "code",
      "source": [
        "train = pd.read_csv(\"/content/drive/MyDrive/Colab Notebooks/msc_training_dataset.csv\")\n",
        "test = pd.read_csv(\"/content/drive/MyDrive/Colab Notebooks/msc_testing_dataset.csv\")\n"
      ],
      "metadata": {
        "id": "e-_5xsPAEMGK"
      },
      "execution_count": null,
      "outputs": []
    },
    {
      "cell_type": "code",
      "source": [
        "train.head()"
      ],
      "metadata": {
        "id": "5BYNICg3MfwI"
      },
      "execution_count": null,
      "outputs": []
    },
    {
      "cell_type": "code",
      "source": [
        "test.head()"
      ],
      "metadata": {
        "id": "HSkr9Pq6MrUb"
      },
      "execution_count": null,
      "outputs": []
    },
    {
      "cell_type": "code",
      "source": [
        "train.describe()"
      ],
      "metadata": {
        "id": "rLT0OMA6Mz1x"
      },
      "execution_count": null,
      "outputs": []
    },
    {
      "cell_type": "code",
      "source": [
        "sns.displot(train[\"price\"], kind=\"hist\", color=\"blue\")\n",
        "plt.title(\"Housing price distribution\")"
      ],
      "metadata": {
        "id": "xDMTSNFjLVB5"
      },
      "execution_count": null,
      "outputs": []
    },
    {
      "cell_type": "code",
      "source": [
        "train.info()"
      ],
      "metadata": {
        "id": "t3-MyuyCNJH-"
      },
      "execution_count": null,
      "outputs": []
    },
    {
      "cell_type": "code",
      "source": [
        "train['price'].describe()"
      ],
      "metadata": {
        "id": "TJ31laGJgxbo"
      },
      "execution_count": null,
      "outputs": []
    },
    {
      "cell_type": "code",
      "source": [
        "test.describe()"
      ],
      "metadata": {
        "id": "1aLm6A-RP0Zm"
      },
      "execution_count": null,
      "outputs": []
    },
    {
      "cell_type": "code",
      "source": [
        "train_X = train.drop('price', axis=1)\n",
        "test_X = test.drop('price', axis=1)\n",
        "train_Y = train['price']\n",
        "test_Y = test['price']"
      ],
      "metadata": {
        "id": "hTVWkfCjRF4Y"
      },
      "execution_count": null,
      "outputs": []
    },
    {
      "cell_type": "code",
      "source": [
        "train_X.head()"
      ],
      "metadata": {
        "id": "NI7Xm7ZuRoDJ"
      },
      "execution_count": null,
      "outputs": []
    },
    {
      "cell_type": "code",
      "source": [
        "test_Y"
      ],
      "metadata": {
        "id": "V6riOcBvRo84"
      },
      "execution_count": null,
      "outputs": []
    },
    {
      "cell_type": "code",
      "source": [
        "# Let's build a linear regression model\n",
        "from sklearn.linear_model import LinearRegression\n",
        "reg = LinearRegression().fit(train_X, train_Y)"
      ],
      "metadata": {
        "id": "9aPxnxsPScYA"
      },
      "execution_count": null,
      "outputs": []
    },
    {
      "cell_type": "code",
      "source": [
        "reg"
      ],
      "metadata": {
        "id": "VYQspmhAShHW"
      },
      "execution_count": null,
      "outputs": []
    },
    {
      "cell_type": "code",
      "source": [
        "# use the linear regression model to predict\n",
        "predicted = reg.predict(test_X)"
      ],
      "metadata": {
        "id": "wJuwZpLhS-km"
      },
      "execution_count": null,
      "outputs": []
    },
    {
      "cell_type": "code",
      "source": [
        "predicted"
      ],
      "metadata": {
        "id": "6yX7s63oTIg-"
      },
      "execution_count": null,
      "outputs": []
    },
    {
      "cell_type": "code",
      "source": [
        "LR  = pd.DataFrame(predicted, columns=['LR Predicted Price'])"
      ],
      "metadata": {
        "id": "Gu_xsBScDnC7"
      },
      "execution_count": null,
      "outputs": []
    },
    {
      "cell_type": "code",
      "source": [
        "LR"
      ],
      "metadata": {
        "id": "AoDcSQXFEHui"
      },
      "execution_count": null,
      "outputs": []
    },
    {
      "cell_type": "code",
      "source": [
        "print(reg.score(train_X, train_Y))"
      ],
      "metadata": {
        "id": "nK0aY_snTOZe"
      },
      "execution_count": null,
      "outputs": []
    },
    {
      "cell_type": "code",
      "source": [
        "print(mean_absolute_error(test_Y, predicted))"
      ],
      "metadata": {
        "id": "wHs6sAiAT0u7"
      },
      "execution_count": null,
      "outputs": []
    },
    {
      "cell_type": "code",
      "source": [
        "coefficients = reg.coef_\n",
        "feature_importance = list(zip(train_X, coefficients))\n",
        "feature_importance.sort(key=lambda x: abs(x[1]))\n",
        "df_coef = pd.DataFrame(feature_importance, columns=['Features', 'Coefficients'])\n",
        "print(df_coef)"
      ],
      "metadata": {
        "id": "FKxpPIn-T-KB"
      },
      "execution_count": null,
      "outputs": []
    },
    {
      "cell_type": "code",
      "source": [
        "import matplotlib.pyplot as plt"
      ],
      "metadata": {
        "id": "i14rQww2UfBi"
      },
      "execution_count": null,
      "outputs": []
    },
    {
      "cell_type": "code",
      "source": [
        "make_plot(test_Y, predicted)"
      ],
      "metadata": {
        "id": "kiInkQhLVZFj"
      },
      "execution_count": null,
      "outputs": []
    },
    {
      "cell_type": "code",
      "source": [
        "# Now let's do random forest regression\n",
        "from sklearn.ensemble import RandomForestRegressor\n",
        "rf_reg = RandomForestRegressor().fit(train_X, train_Y)\n",
        "rf_predicted = rf_reg.predict(test_X)\n",
        "print(rf_reg.score(train_X, train_Y))\n",
        "print(mean_absolute_error(test_Y, rf_predicted))"
      ],
      "metadata": {
        "id": "lX72CTnZV-zb"
      },
      "execution_count": null,
      "outputs": []
    },
    {
      "cell_type": "code",
      "source": [
        "rf_predicted"
      ],
      "metadata": {
        "id": "0YqsefF5FcjK"
      },
      "execution_count": null,
      "outputs": []
    },
    {
      "cell_type": "code",
      "source": [
        "make_plot(test_Y, rf_predicted)"
      ],
      "metadata": {
        "id": "eMuPVooLWEs3"
      },
      "execution_count": null,
      "outputs": []
    },
    {
      "cell_type": "code",
      "source": [
        "rf_reg.feature_importances_"
      ],
      "metadata": {
        "id": "51ZGkQUgWO12"
      },
      "execution_count": null,
      "outputs": []
    },
    {
      "cell_type": "code",
      "source": [
        "train.columns"
      ],
      "metadata": {
        "id": "oopAl60RWTXz"
      },
      "execution_count": null,
      "outputs": []
    },
    {
      "cell_type": "code",
      "source": [
        "imp_scores = zip(rf_reg.feature_importances_, train.columns)\n",
        "sorted(list(imp_scores), reverse=True)"
      ],
      "metadata": {
        "id": "jdUY0ei7Whgx"
      },
      "execution_count": null,
      "outputs": []
    },
    {
      "cell_type": "code",
      "source": [
        "rf_importances = rf_reg.feature_importances_\n",
        "rf_reg.feature_names_in_\n",
        "ranks_and_features = zip(rf_importances, rf_reg.feature_names_in_)\n",
        "ranks_and_features = sorted(ranks_and_features,reverse=True)\n",
        "for x, y in ranks_and_features:\n",
        "    print(x, y)"
      ],
      "metadata": {
        "id": "hqGBpue2W1NU"
      },
      "execution_count": null,
      "outputs": []
    },
    {
      "cell_type": "code",
      "source": [
        "ranks_and_features"
      ],
      "metadata": {
        "id": "izwxjHKJW7yO"
      },
      "execution_count": null,
      "outputs": []
    },
    {
      "cell_type": "code",
      "source": [
        "keys = [k[1] for k in ranks_and_features ] [::-1]\n",
        "keys"
      ],
      "metadata": {
        "id": "ZEyo5We3XILt"
      },
      "execution_count": null,
      "outputs": []
    },
    {
      "cell_type": "code",
      "source": [
        "values = [k[0] for k in ranks_and_features ][::-1]\n",
        "values"
      ],
      "metadata": {
        "id": "4-4QPJlZXK00"
      },
      "execution_count": null,
      "outputs": []
    },
    {
      "cell_type": "code",
      "source": [
        "plt.barh(keys, values)\n"
      ],
      "metadata": {
        "id": "g1i7c04NXY_g"
      },
      "execution_count": null,
      "outputs": []
    },
    {
      "cell_type": "code",
      "source": [
        "from sklearn.neighbors import KNeighborsRegressor\n",
        "neigh = KNeighborsRegressor(n_neighbors=7)\n",
        "neigh.fit(train_X, train_Y)\n",
        "knn_predicted = neigh.predict(test_X)\n",
        "print(neigh.score(train_X, train_Y))\n",
        "print(mean_absolute_error(test_Y, knn_predicted))\n",
        "make_plot(test_Y, knn_predicted)"
      ],
      "metadata": {
        "id": "n8qqVVjOXqnJ"
      },
      "execution_count": null,
      "outputs": []
    },
    {
      "cell_type": "code",
      "source": [
        "# Let's plot the mean absolute error of all the algorithms we have tried\n",
        "lin_mae = mean_absolute_error(test_Y, predicted)\n",
        "knn_mae = mean_absolute_error(test_Y, knn_predicted)\n",
        "rf_mae = mean_absolute_error(test_Y, rf_predicted)\n",
        "errors = [lin_mae, knn_mae, rf_mae]\n",
        "labels = [\"LinearReg\", \"KNNReg\", \"RFReg\"]\n",
        "bars = plt.bar(labels, errors, width=0.4)\n",
        "for bar in bars:\n",
        "    yval = int(bar.get_height())\n",
        "    plt.text(bar.get_x(), yval + .005, yval)\n",
        "#plt.grid()\n",
        "plt.title(\"MAE for various regression algorithms\")"
      ],
      "metadata": {
        "id": "Ys-ElsubY4B6"
      },
      "execution_count": null,
      "outputs": []
    },
    {
      "cell_type": "code",
      "source": [
        "import numpy as np\n",
        "New_Table = test.join(LR)"
      ],
      "metadata": {
        "id": "2lJsyEL6hRuG"
      },
      "execution_count": null,
      "outputs": []
    },
    {
      "cell_type": "code",
      "source": [
        "New_Table"
      ],
      "metadata": {
        "id": "kV3v3d8liTLg"
      },
      "execution_count": null,
      "outputs": []
    },
    {
      "cell_type": "code",
      "source": [
        "New_Table.to_csv(\"/content/drive/MyDrive/Colab Notebooks/New_Table.csv\")"
      ],
      "metadata": {
        "id": "7fmFSsf8kVf4"
      },
      "execution_count": null,
      "outputs": []
    }
  ]
}